{
 "cells": [
  {
   "cell_type": "code",
   "execution_count": 2,
   "metadata": {},
   "outputs": [],
   "source": [
    "import pandas as pd\n",
    "import numpy as np\n",
    "data = pd.read_csv('data.csv')"
   ]
  },
  {
   "cell_type": "code",
   "execution_count": 3,
   "metadata": {},
   "outputs": [
    {
     "data": {
      "text/plain": [
       "<bound method NDFrame.head of       pclass  survived                                             name  \\\n",
       "0          1         1                    Allen, Miss. Elisabeth Walton   \n",
       "1          1         1                   Allison, Master. Hudson Trevor   \n",
       "2          1         0                     Allison, Miss. Helen Loraine   \n",
       "3          1         0             Allison, Mr. Hudson Joshua Creighton   \n",
       "4          1         0  Allison, Mrs. Hudson J C (Bessie Waldo Daniels)   \n",
       "...      ...       ...                                              ...   \n",
       "1304       3         0                             Zabour, Miss. Hileni   \n",
       "1305       3         0                            Zabour, Miss. Thamine   \n",
       "1306       3         0                        Zakarian, Mr. Mapriededer   \n",
       "1307       3         0                              Zakarian, Mr. Ortin   \n",
       "1308       3         0                               Zimmerman, Mr. Leo   \n",
       "\n",
       "         sex     age  sibsp  parch  ticket      fare    cabin embarked boat  \\\n",
       "0     female      29      0      0   24160  211.3375       B5        S    2   \n",
       "1       male  0.9167      1      2  113781    151.55  C22 C26        S   11   \n",
       "2     female       2      1      2  113781    151.55  C22 C26        S    ?   \n",
       "3       male      30      1      2  113781    151.55  C22 C26        S    ?   \n",
       "4     female      25      1      2  113781    151.55  C22 C26        S    ?   \n",
       "...      ...     ...    ...    ...     ...       ...      ...      ...  ...   \n",
       "1304  female    14.5      1      0    2665   14.4542        ?        C    ?   \n",
       "1305  female       ?      1      0    2665   14.4542        ?        C    ?   \n",
       "1306    male    26.5      0      0    2656     7.225        ?        C    ?   \n",
       "1307    male      27      0      0    2670     7.225        ?        C    ?   \n",
       "1308    male      29      0      0  315082     7.875        ?        S    ?   \n",
       "\n",
       "     body                        home.dest  \n",
       "0       ?                     St Louis, MO  \n",
       "1       ?  Montreal, PQ / Chesterville, ON  \n",
       "2       ?  Montreal, PQ / Chesterville, ON  \n",
       "3     135  Montreal, PQ / Chesterville, ON  \n",
       "4       ?  Montreal, PQ / Chesterville, ON  \n",
       "...   ...                              ...  \n",
       "1304  328                                ?  \n",
       "1305    ?                                ?  \n",
       "1306  304                                ?  \n",
       "1307    ?                                ?  \n",
       "1308    ?                                ?  \n",
       "\n",
       "[1309 rows x 14 columns]>"
      ]
     },
     "execution_count": 3,
     "metadata": {},
     "output_type": "execute_result"
    }
   ],
   "source": [
    "data.head"
   ]
  },
  {
   "cell_type": "code",
   "execution_count": 4,
   "metadata": {},
   "outputs": [],
   "source": [
    "data.replace('?', np.nan, inplace= True)\n",
    "data = data.astype({\"age\": np.float64, \"fare\": np.float64})"
   ]
  },
  {
   "cell_type": "code",
   "execution_count": 5,
   "metadata": {},
   "outputs": [
    {
     "data": {
      "text/plain": [
       "pclass         int64\n",
       "survived       int64\n",
       "name          object\n",
       "sex           object\n",
       "age          float64\n",
       "sibsp          int64\n",
       "parch          int64\n",
       "ticket        object\n",
       "fare         float64\n",
       "cabin         object\n",
       "embarked      object\n",
       "boat          object\n",
       "body          object\n",
       "home.dest     object\n",
       "dtype: object"
      ]
     },
     "execution_count": 5,
     "metadata": {},
     "output_type": "execute_result"
    }
   ],
   "source": [
    "data.dtypes"
   ]
  },
  {
   "cell_type": "code",
   "execution_count": 6,
   "metadata": {},
   "outputs": [
    {
     "data": {
      "text/plain": [
       "<AxesSubplot:xlabel='survived', ylabel='fare'>"
      ]
     },
     "execution_count": 6,
     "metadata": {},
     "output_type": "execute_result"
    },
    {
     "data": {
      "image/png": "[encoded data removed]",
      "text/plain": [
       "<Figure size 2160x360 with 5 Axes>"
      ]
     },
     "metadata": {
      "needs_background": "light"
     },
     "output_type": "display_data"
    }
   ],
   "source": [
    "import seaborn as sns\n",
    "import matplotlib.pyplot as plt\n",
    "\n",
    "fig, axs = plt.subplots(ncols=5, figsize=(30,5))\n",
    "sns.violinplot(x=\"survived\", y=\"age\", hue=\"sex\", data=data, ax=axs[0])\n",
    "sns.pointplot(x=\"sibsp\", y=\"survived\", hue=\"sex\", data=data, ax=axs[1])\n",
    "sns.pointplot(x=\"parch\", y=\"survived\", hue=\"sex\", data=data, ax=axs[2])\n",
    "sns.pointplot(x=\"pclass\", y=\"survived\", hue=\"sex\", data=data, ax=axs[3])\n",
    "sns.violinplot(x=\"survived\", y=\"fare\", hue=\"sex\", data=data, ax=axs[4])"
   ]
  },
  {
   "cell_type": "code",
   "execution_count": 7,
   "metadata": {},
   "outputs": [],
   "source": [
    "data.replace({'male': 1, 'female': 0}, inplace=True)"
   ]
  },
  {
   "cell_type": "code",
   "execution_count": 8,
   "metadata": {},
   "outputs": [
    {
     "data": {
      "text/html": [
       "<div>\n",
       "<style scoped>\n",
       "    .dataframe tbody tr th:only-of-type {\n",
       "        vertical-align: middle;\n",
       "    }\n",
       "\n",
       "    .dataframe tbody tr th {\n",
       "        vertical-align: top;\n",
       "    }\n",
       "\n",
       "    .dataframe thead th {\n",
       "        text-align: right;\n",
       "    }\n",
       "</style>\n",
       "<table border=\"1\" class=\"dataframe\">\n",
       "  <thead>\n",
       "    <tr style=\"text-align: right;\">\n",
       "      <th></th>\n",
       "      <th>survived</th>\n",
       "    </tr>\n",
       "  </thead>\n",
       "  <tbody>\n",
       "    <tr>\n",
       "      <th>pclass</th>\n",
       "      <td>0.312469</td>\n",
       "    </tr>\n",
       "    <tr>\n",
       "      <th>survived</th>\n",
       "      <td>1.000000</td>\n",
       "    </tr>\n",
       "    <tr>\n",
       "      <th>sex</th>\n",
       "      <td>0.528693</td>\n",
       "    </tr>\n",
       "    <tr>\n",
       "      <th>age</th>\n",
       "      <td>0.055513</td>\n",
       "    </tr>\n",
       "    <tr>\n",
       "      <th>sibsp</th>\n",
       "      <td>0.027825</td>\n",
       "    </tr>\n",
       "    <tr>\n",
       "      <th>parch</th>\n",
       "      <td>0.082660</td>\n",
       "    </tr>\n",
       "    <tr>\n",
       "      <th>fare</th>\n",
       "      <td>0.244265</td>\n",
       "    </tr>\n",
       "  </tbody>\n",
       "</table>\n",
       "</div>"
      ],
      "text/plain": [
       "          survived\n",
       "pclass    0.312469\n",
       "survived  1.000000\n",
       "sex       0.528693\n",
       "age       0.055513\n",
       "sibsp     0.027825\n",
       "parch     0.082660\n",
       "fare      0.244265"
      ]
     },
     "execution_count": 8,
     "metadata": {},
     "output_type": "execute_result"
    }
   ],
   "source": [
    "data.corr().abs()[[\"survived\"]]"
   ]
  },
  {
   "cell_type": "code",
   "execution_count": 11,
   "metadata": {},
   "outputs": [
    {
     "data": {
      "text/html": [
       "<div>\n",
       "<style scoped>\n",
       "    .dataframe tbody tr th:only-of-type {\n",
       "        vertical-align: middle;\n",
       "    }\n",
       "\n",
       "    .dataframe tbody tr th {\n",
       "        vertical-align: top;\n",
       "    }\n",
       "\n",
       "    .dataframe thead th {\n",
       "        text-align: right;\n",
       "    }\n",
       "</style>\n",
       "<table border=\"1\" class=\"dataframe\">\n",
       "  <thead>\n",
       "    <tr style=\"text-align: right;\">\n",
       "      <th></th>\n",
       "      <th>survived</th>\n",
       "    </tr>\n",
       "  </thead>\n",
       "  <tbody>\n",
       "    <tr>\n",
       "      <th>pclass</th>\n",
       "      <td>0.312469</td>\n",
       "    </tr>\n",
       "    <tr>\n",
       "      <th>survived</th>\n",
       "      <td>1.000000</td>\n",
       "    </tr>\n",
       "    <tr>\n",
       "      <th>sex</th>\n",
       "      <td>0.528693</td>\n",
       "    </tr>\n",
       "    <tr>\n",
       "      <th>age</th>\n",
       "      <td>0.055513</td>\n",
       "    </tr>\n",
       "    <tr>\n",
       "      <th>sibsp</th>\n",
       "      <td>0.027825</td>\n",
       "    </tr>\n",
       "    <tr>\n",
       "      <th>parch</th>\n",
       "      <td>0.082660</td>\n",
       "    </tr>\n",
       "    <tr>\n",
       "      <th>fare</th>\n",
       "      <td>0.244265</td>\n",
       "    </tr>\n",
       "    <tr>\n",
       "      <th>relatives</th>\n",
       "      <td>0.201719</td>\n",
       "    </tr>\n",
       "  </tbody>\n",
       "</table>\n",
       "</div>"
      ],
      "text/plain": [
       "           survived\n",
       "pclass     0.312469\n",
       "survived   1.000000\n",
       "sex        0.528693\n",
       "age        0.055513\n",
       "sibsp      0.027825\n",
       "parch      0.082660\n",
       "fare       0.244265\n",
       "relatives  0.201719"
      ]
     },
     "execution_count": 11,
     "metadata": {},
     "output_type": "execute_result"
    }
   ],
   "source": [
    "data['relatives'] = data.apply (lambda row: int((row['sibsp'] + row['parch']) > 0), axis=1)\n",
    "data.corr().abs()[[\"survived\"]]"
   ]
  },
  {
   "cell_type": "code",
   "execution_count": 13,
   "metadata": {},
   "outputs": [],
   "source": [
    "data = data[['sex', 'pclass','age','relatives','fare','survived']].dropna()"
   ]
  },
  {
   "cell_type": "code",
   "execution_count": 14,
   "metadata": {},
   "outputs": [
    {
     "data": {
      "text/plain": [
       "sex            int64\n",
       "pclass         int64\n",
       "age          float64\n",
       "relatives      int64\n",
       "fare         float64\n",
       "survived       int64\n",
       "dtype: object"
      ]
     },
     "execution_count": 14,
     "metadata": {},
     "output_type": "execute_result"
    }
   ],
   "source": [
    "data.dtypes"
   ]
  },
  {
   "cell_type": "code",
   "execution_count": 15,
   "metadata": {},
   "outputs": [],
   "source": [
    "from sklearn.model_selection import train_test_split\n",
    "x_train, x_test, y_train, y_test = train_test_split(data[['sex','pclass','age','relatives','fare']], data.survived, test_size=0.2, random_state=0)"
   ]
  },
  {
   "cell_type": "code",
   "execution_count": 16,
   "metadata": {},
   "outputs": [],
   "source": [
    "from sklearn.preprocessing import StandardScaler\n",
    "sc = StandardScaler()\n",
    "X_train = sc.fit_transform(x_train)\n",
    "X_test = sc.transform(x_test)"
   ]
  },
  {
   "cell_type": "code",
   "execution_count": 17,
   "metadata": {},
   "outputs": [
    {
     "data": {
      "text/plain": [
       "GaussianNB()"
      ]
     },
     "execution_count": 17,
     "metadata": {},
     "output_type": "execute_result"
    }
   ],
   "source": [
    "from sklearn.naive_bayes import GaussianNB\n",
    "model = GaussianNB()\n",
    "model.fit(X_train, y_train)"
   ]
  },
  {
   "cell_type": "code",
   "execution_count": 18,
   "metadata": {},
   "outputs": [
    {
     "name": "stdout",
     "output_type": "stream",
     "text": [
      "0.7464114832535885\n"
     ]
    }
   ],
   "source": [
    "from sklearn import metrics\n",
    "predict_test = model.predict(X_test)\n",
    "print(metrics.accuracy_score(y_test, predict_test))"
   ]
  },
  {
   "cell_type": "code",
   "execution_count": 21,
   "metadata": {},
   "outputs": [],
   "source": [
    "from tensorflow.keras import Sequential\n",
    "from tensorflow.keras.layers import Conv2D, Flatten, Dense\n",
    "\n",
    "model = Sequential()"
   ]
  },
  {
   "cell_type": "code",
   "execution_count": 22,
   "metadata": {},
   "outputs": [],
   "source": [
    "model.add(Dense(5, kernel_initializer = 'uniform', activation = 'relu', input_dim = 5))\n",
    "model.add(Dense(5, kernel_initializer = 'uniform', activation = 'relu'))\n",
    "model.add(Dense(1, kernel_initializer = 'uniform', activation = 'sigmoid'))"
   ]
  },
  {
   "cell_type": "code",
   "execution_count": 23,
   "metadata": {},
   "outputs": [
    {
     "name": "stdout",
     "output_type": "stream",
     "text": [
      "Model: \"sequential\"\n",
      "_________________________________________________________________\n",
      "Layer (type)                 Output Shape              Param #   \n",
      "=================================================================\n",
      "dense (Dense)                (None, 5)                 30        \n",
      "_________________________________________________________________\n",
      "dense_1 (Dense)              (None, 5)                 30        \n",
      "_________________________________________________________________\n",
      "dense_2 (Dense)              (None, 1)                 6         \n",
      "=================================================================\n",
      "Total params: 66\n",
      "Trainable params: 66\n",
      "Non-trainable params: 0\n",
      "_________________________________________________________________\n"
     ]
    }
   ],
   "source": [
    "model.summary()"
   ]
  },
  {
   "cell_type": "code",
   "execution_count": 24,
   "metadata": {},
   "outputs": [
    {
     "name": "stdout",
     "output_type": "stream",
     "text": [
      "Epoch 1/50\n",
      "27/27 [==============================] - 0s 924us/step - loss: 0.6924 - accuracy: 0.5706\n",
      "Epoch 2/50\n",
      "27/27 [==============================] - 0s 739us/step - loss: 0.6907 - accuracy: 0.5861\n",
      "Epoch 3/50\n",
      "27/27 [==============================] - 0s 923us/step - loss: 0.6875 - accuracy: 0.5933\n",
      "Epoch 4/50\n",
      "27/27 [==============================] - 0s 997us/step - loss: 0.6807 - accuracy: 0.7249\n",
      "Epoch 5/50\n",
      "27/27 [==============================] - 0s 850us/step - loss: 0.6681 - accuracy: 0.7739\n",
      "Epoch 6/50\n",
      "27/27 [==============================] - 0s 1ms/step - loss: 0.6509 - accuracy: 0.7691\n",
      "Epoch 7/50\n",
      "27/27 [==============================] - 0s 886us/step - loss: 0.6311 - accuracy: 0.7667\n",
      "Epoch 8/50\n",
      "27/27 [==============================] - 0s 1ms/step - loss: 0.6125 - accuracy: 0.7667\n",
      "Epoch 9/50\n",
      "27/27 [==============================] - 0s 1ms/step - loss: 0.5989 - accuracy: 0.7703\n",
      "Epoch 10/50\n",
      "27/27 [==============================] - 0s 739us/step - loss: 0.5873 - accuracy: 0.7739\n",
      "Epoch 11/50\n",
      "27/27 [==============================] - 0s 739us/step - loss: 0.5789 - accuracy: 0.7739\n",
      "Epoch 12/50\n",
      "27/27 [==============================] - 0s 776us/step - loss: 0.5711 - accuracy: 0.7739\n",
      "Epoch 13/50\n",
      "27/27 [==============================] - 0s 628us/step - loss: 0.5645 - accuracy: 0.7799\n",
      "Epoch 14/50\n",
      "27/27 [==============================] - 0s 591us/step - loss: 0.5582 - accuracy: 0.7739\n",
      "Epoch 15/50\n",
      "27/27 [==============================] - 0s 666us/step - loss: 0.5523 - accuracy: 0.7799\n",
      "Epoch 16/50\n",
      "27/27 [==============================] - 0s 702us/step - loss: 0.5473 - accuracy: 0.7811\n",
      "Epoch 17/50\n",
      "27/27 [==============================] - 0s 664us/step - loss: 0.5409 - accuracy: 0.7811\n",
      "Epoch 18/50\n",
      "27/27 [==============================] - 0s 700us/step - loss: 0.5360 - accuracy: 0.7811\n",
      "Epoch 19/50\n",
      "27/27 [==============================] - 0s 702us/step - loss: 0.5318 - accuracy: 0.7883\n",
      "Epoch 20/50\n",
      "27/27 [==============================] - 0s 628us/step - loss: 0.5278 - accuracy: 0.7871\n",
      "Epoch 21/50\n",
      "27/27 [==============================] - 0s 628us/step - loss: 0.5243 - accuracy: 0.7847\n",
      "Epoch 22/50\n",
      "27/27 [==============================] - 0s 628us/step - loss: 0.5201 - accuracy: 0.7847\n",
      "Epoch 23/50\n",
      "27/27 [==============================] - 0s 591us/step - loss: 0.5169 - accuracy: 0.7895\n",
      "Epoch 24/50\n",
      "27/27 [==============================] - 0s 554us/step - loss: 0.5134 - accuracy: 0.7931\n",
      "Epoch 25/50\n",
      "27/27 [==============================] - 0s 591us/step - loss: 0.5103 - accuracy: 0.7955\n",
      "Epoch 26/50\n",
      "27/27 [==============================] - 0s 555us/step - loss: 0.5076 - accuracy: 0.7871\n",
      "Epoch 27/50\n",
      "27/27 [==============================] - 0s 628us/step - loss: 0.5047 - accuracy: 0.7859\n",
      "Epoch 28/50\n",
      "27/27 [==============================] - 0s 702us/step - loss: 0.5021 - accuracy: 0.7919\n",
      "Epoch 29/50\n",
      "27/27 [==============================] - ETA: 0s - loss: 0.5180 - accuracy: 0.78 - 0s 663us/step - loss: 0.5000 - accuracy: 0.7931\n",
      "Epoch 30/50\n",
      "27/27 [==============================] - 0s 591us/step - loss: 0.4976 - accuracy: 0.7955\n",
      "Epoch 31/50\n",
      "27/27 [==============================] - 0s 591us/step - loss: 0.4956 - accuracy: 0.7967\n",
      "Epoch 32/50\n",
      "27/27 [==============================] - 0s 1ms/step - loss: 0.4937 - accuracy: 0.7955\n",
      "Epoch 33/50\n",
      "27/27 [==============================] - 0s 628us/step - loss: 0.4913 - accuracy: 0.7990\n",
      "Epoch 34/50\n",
      "27/27 [==============================] - 0s 701us/step - loss: 0.4896 - accuracy: 0.7967\n",
      "Epoch 35/50\n",
      "27/27 [==============================] - 0s 665us/step - loss: 0.4880 - accuracy: 0.7955\n",
      "Epoch 36/50\n",
      "27/27 [==============================] - 0s 591us/step - loss: 0.4864 - accuracy: 0.7967\n",
      "Epoch 37/50\n",
      "27/27 [==============================] - 0s 665us/step - loss: 0.4849 - accuracy: 0.7955\n",
      "Epoch 38/50\n",
      "27/27 [==============================] - 0s 628us/step - loss: 0.4832 - accuracy: 0.7978\n",
      "Epoch 39/50\n",
      "27/27 [==============================] - 0s 628us/step - loss: 0.4816 - accuracy: 0.8014\n",
      "Epoch 40/50\n",
      "27/27 [==============================] - 0s 628us/step - loss: 0.4799 - accuracy: 0.8038\n",
      "Epoch 41/50\n",
      "27/27 [==============================] - 0s 702us/step - loss: 0.4786 - accuracy: 0.8026\n",
      "Epoch 42/50\n",
      "27/27 [==============================] - 0s 665us/step - loss: 0.4777 - accuracy: 0.8026\n",
      "Epoch 43/50\n",
      "27/27 [==============================] - 0s 591us/step - loss: 0.4762 - accuracy: 0.8038\n",
      "Epoch 44/50\n",
      "27/27 [==============================] - 0s 554us/step - loss: 0.4751 - accuracy: 0.8002\n",
      "Epoch 45/50\n",
      "27/27 [==============================] - 0s 517us/step - loss: 0.4738 - accuracy: 0.8026\n",
      "Epoch 46/50\n",
      "27/27 [==============================] - 0s 517us/step - loss: 0.4734 - accuracy: 0.8002\n",
      "Epoch 47/50\n",
      "27/27 [==============================] - 0s 518us/step - loss: 0.4717 - accuracy: 0.7967\n",
      "Epoch 48/50\n",
      "27/27 [==============================] - 0s 665us/step - loss: 0.4706 - accuracy: 0.8002\n",
      "Epoch 49/50\n",
      "27/27 [==============================] - 0s 628us/step - loss: 0.4696 - accuracy: 0.8038\n",
      "Epoch 50/50\n",
      "27/27 [==============================] - 0s 628us/step - loss: 0.4697 - accuracy: 0.7967\n"
     ]
    },
    {
     "data": {
      "text/plain": [
       "<tensorflow.python.keras.callbacks.History at 0x1727f1fcc08>"
      ]
     },
     "execution_count": 24,
     "metadata": {},
     "output_type": "execute_result"
    }
   ],
   "source": [
    "model.compile(optimizer=\"adam\", loss='binary_crossentropy', metrics=['accuracy'])\n",
    "model.fit(X_train, y_train, batch_size=32, epochs=50)"
   ]
  },
  {
   "cell_type": "code",
   "execution_count": 25,
   "metadata": {},
   "outputs": [
    {
     "name": "stdout",
     "output_type": "stream",
     "text": [
      "0.6124401913875598\n"
     ]
    }
   ],
   "source": [
    "y_pred = np.argmax(model.predict(X_test), axis=-1)\n",
    "print(metrics.accuracy_score(y_test, y_pred))"
   ]
  },
  {
   "cell_type": "code",
   "execution_count": null,
   "metadata": {},
   "outputs": [],
   "source": []
  }
 ],
 "metadata": {
  "interpreter": {
   "hash": "24a64627d813938b098451950d03d7efe5eaf2f55c070c43a783177c7fa2e403"
  },
  "kernelspec": {
   "display_name": "Python 3.7.8 64-bit",
   "language": "python",
   "name": "python3"
  },
  "language_info": {
   "codemirror_mode": {
    "name": "ipython",
    "version": 3
   },
   "file_extension": ".py",
   "mimetype": "text/x-python",
   "name": "python",
   "nbconvert_exporter": "python",
   "pygments_lexer": "ipython3",
   "version": "3.7.11"
  },
  "orig_nbformat": 4
 },
 "nbformat": 4,
 "nbformat_minor": 2
}
